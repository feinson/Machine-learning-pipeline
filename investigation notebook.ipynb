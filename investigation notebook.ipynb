{
 "cells": [
  {
   "cell_type": "code",
   "execution_count": 35,
   "id": "85017e1d",
   "metadata": {
    "scrolled": true
   },
   "outputs": [],
   "source": [
    "import pandas as pd\n",
    "import numpy as np\n",
    "\n",
    "df = pd.read_csv('./data/clean_tabular_data.csv')\n",
    "\n"
   ]
  },
  {
   "cell_type": "code",
   "execution_count": 37,
   "id": "656c599e",
   "metadata": {
    "scrolled": true
   },
   "outputs": [],
   "source": [
    "import pandas as pd\n",
    "import numpy as np\n",
    "from sklearn.linear_model import LinearRegression\n",
    "from sklearn.model_selection import train_test_split\n",
    "\n",
    "np.random.seed(2)\n",
    "def load_airbnb(clean_df: pd.DataFrame, label):\n",
    "\n",
    "    df = clean_df.copy()\n",
    "    labels = df.pop(label)\n",
    "    features = df.select_dtypes(['number'])\n",
    "    return (features, labels)\n",
    "\n",
    "def standardise(dataset, mean=None, std=None):\n",
    "    if mean is None and std is None:\n",
    "        mean, std = np.mean(dataset, axis=0), np.std(\n",
    "            dataset, axis=0\n",
    "        )  # get mean and standard deviation of dataset\n",
    "    standardized_dataset = (dataset - mean) / std\n",
    "    return standardized_dataset, (mean, std)\n",
    "\n",
    "\n",
    "def standardise_multiple(*datasets):\n",
    "    mean, std = None, None\n",
    "    for dataset in datasets:\n",
    "        dataset, (mean, std) = standardise(dataset, mean, std)\n",
    "        yield dataset\n",
    "\n",
    "def mse_loss(y_hat, labels): # define the criterion (loss function)\n",
    "    errors = y_hat - labels ## calculate the errors\n",
    "    squared_errors = errors ** 2 ## square the errors\n",
    "    mean_squared_error = sum(squared_errors) / len(squared_errors) ## calculate the mean \n",
    "    return mean_squared_error # return the loss\n",
    "\n",
    "def calculate_loss(model, X, y):\n",
    "    return mse_loss(model.predict(X), y)"
   ]
  },
  {
   "cell_type": "code",
   "execution_count": 42,
   "id": "9794fac6",
   "metadata": {},
   "outputs": [
    {
     "data": {
      "text/plain": [
       "guests                  1.0\n",
       "beds                    1.0\n",
       "bathrooms               0.0\n",
       "Cleanliness_rating      3.8\n",
       "Accuracy_rating         4.0\n",
       "Communication_rating    3.9\n",
       "Location_rating         4.0\n",
       "Check-in_rating         3.9\n",
       "Value_rating            3.7\n",
       "amenities_count         3.0\n",
       "bedrooms                1.0\n",
       "dtype: float64"
      ]
     },
     "execution_count": 42,
     "metadata": {},
     "output_type": "execute_result"
    }
   ],
   "source": [
    "features, labels = load_airbnb(df, \"Price_Night\")\n",
    "features.min()"
   ]
  }
 ],
 "metadata": {
  "kernelspec": {
   "display_name": "Python 3 (ipykernel)",
   "language": "python",
   "name": "python3"
  },
  "language_info": {
   "codemirror_mode": {
    "name": "ipython",
    "version": 3
   },
   "file_extension": ".py",
   "mimetype": "text/x-python",
   "name": "python",
   "nbconvert_exporter": "python",
   "pygments_lexer": "ipython3",
   "version": "3.10.8"
  },
  "vscode": {
   "interpreter": {
    "hash": "28c0b261103d7c8e77faf07d9728977feb83f5752c9ccf2254226a2069d336fd"
   }
  }
 },
 "nbformat": 4,
 "nbformat_minor": 5
}
